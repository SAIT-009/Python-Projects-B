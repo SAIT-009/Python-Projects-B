{
 "cells": [
  {
   "cell_type": "code",
   "execution_count": null,
   "id": "650e89de-0864-4b4e-9ea1-70775ef8ad50",
   "metadata": {},
   "outputs": [],
   "source": [
    "Task: Below are the steps:\n",
    "\n",
    "Build a Number guessing game, in which the user selects a range.\n",
    "Let’s say User selected a range, i.e., from A to B, where A and B belong to Integer.\n",
    "Some random integer will be selected by the system and the user has to guess that integer in the minimum number of guesses\n"
   ]
  },
  {
   "cell_type": "code",
   "execution_count": null,
   "id": "a4c6fd5a-c210-474e-916a-a8b49a8a407a",
   "metadata": {},
   "outputs": [],
   "source": [
    "Analysis:\n",
    "\n",
    "Explanation 1: If the User inputs range, let’s say from 1 to 100. And compiler randomly selected 42 as the integer. \n",
    "And now the guessing game started, so the user entered 50 as his/her first guess. The compiler shows “Try Again! You guessed too high”. \n",
    "That’s mean the random number (i.e., 42) doesn’t fall in the range from 50 to 100. That’s the importance of guessing half of the range.\n",
    "And again, the user guesses half of 50 (Could you tell me why?). So the half of 50 is 25. The user enters 25 as his/her second guess. \n",
    "This time compiler will show, “Try Again! You guessed too small”. That’s mean the integers less than 25 (from 1 to 25) are useless to be guessed.\n",
    "Now the range for user guessing is shorter, i.e., from 25 to 50. Intelligently! The user guessed half of this range, so that, \n",
    "user guessed 37 as his/her third guess.  This time again the compiler shows the output, “Try Again! You guessed too small”. \n",
    "For the user, the guessing range is getting smaller by each guess. Now, the guessing range for user is from 37 to 50, \n",
    "for which the user guessed 43 as his/her fourth guess. This time the compiler will show an output “Try Again! You guessed too high”.\n",
    "So, the new guessing range for users will be from 37 to 43, again for which the user guessed the half of this range,\n",
    "that is, 40 as his/her fifth guess.  This time the compiler shows the output, “Try Again! You guessed too small”. \n",
    "Leaving the guess even smaller such that from 41 to 43. And now the user guessed 41 as his/her sixth guess.\n",
    "Which is wrong and shows output “Try Again! You guessed too small”. And finally, the User Guessed the right number which is 42 as his/her seventh guess.\n",
    "\n",
    "          Total Number of Guesses = 7"
   ]
  },
  {
   "cell_type": "code",
   "execution_count": null,
   "id": "64f9ed2a-6493-472d-b9e7-5790f94043a5",
   "metadata": {},
   "outputs": [],
   "source": [
    "Minimum number of guessing = log2(Upper bound – lower bound + 1)"
   ]
  },
  {
   "cell_type": "code",
   "execution_count": 24,
   "id": "bac08923-a585-4399-ab3a-4a99c6d377cc",
   "metadata": {},
   "outputs": [
    {
     "name": "stdin",
     "output_type": "stream",
     "text": [
      "Provide the lowest number in range:  25\n",
      "Provide the highest number in range:  50\n"
     ]
    },
    {
     "name": "stdout",
     "output_type": "stream",
     "text": [
      "Provided the range is between 25 and 50\n",
      "25\n",
      "Total Chances 5\n"
     ]
    },
    {
     "name": "stdin",
     "output_type": "stream",
     "text": [
      "Guess number in range:  55\n"
     ]
    },
    {
     "name": "stdout",
     "output_type": "stream",
     "text": [
      "Guess is large! Try again : you have 4 chances\n"
     ]
    },
    {
     "name": "stdin",
     "output_type": "stream",
     "text": [
      "Guess number in range:  66\n"
     ]
    },
    {
     "name": "stdout",
     "output_type": "stream",
     "text": [
      "Guess is large! Try again : you have 3 chances\n"
     ]
    },
    {
     "name": "stdin",
     "output_type": "stream",
     "text": [
      "Guess number in range:  44\n"
     ]
    },
    {
     "name": "stdout",
     "output_type": "stream",
     "text": [
      "Guess is large! Try again : you have 2 chances\n"
     ]
    },
    {
     "name": "stdin",
     "output_type": "stream",
     "text": [
      "Guess number in range:  22\n"
     ]
    },
    {
     "name": "stdout",
     "output_type": "stream",
     "text": [
      "Guess is small! Try again: you have 1 chances\n"
     ]
    },
    {
     "name": "stdin",
     "output_type": "stream",
     "text": [
      "Guess number in range:  33\n"
     ]
    },
    {
     "name": "stdout",
     "output_type": "stream",
     "text": [
      "Better luck in next time!!! The number is  25\n"
     ]
    }
   ],
   "source": [
    "import random\n",
    "import math\n",
    "\n",
    "#Provding the range values\n",
    "a = int(input(\"Provide the lowest number in range: \"))\n",
    "b = int(input(\"Provide the highest number in range: \"))\n",
    "print(f\"Provided the range is between {a} and {b}\")\n",
    "#System selects a random n.o in range\n",
    "number = random.randint(a,b)\n",
    "print(number)\n",
    "#User guesses and chances\n",
    "total_chances = round(math.log2(b-a + 1))\n",
    "print(\"Total Chances\" , total_chances)\n",
    "for i in range (1, total_chances+1) :\n",
    "    guess = int(input(\"Guess number in range: \"))\n",
    "    if guess == number :\n",
    "        print(\"Correct guess! The number is \" , number)\n",
    "        break\n",
    "#Using elif to n unsuccessful attempts : writing as first elif because elif passes the first true statement\n",
    "    elif total_chances-i == 0:\n",
    "        print(\"Better luck in next time!!! The number is \", number)\n",
    "    elif guess > number:\n",
    "        print(f\"Guess is large! Try again : you have {total_chances - i} chances\")\n",
    "    elif guess < number:\n",
    "        print(f\"Guess is small! Try again: you have {total_chances - i} chances\")\n",
    "    else :\n",
    "        print(f\"Wrong guess ! Try again : you have {total_chances - i} chances\")"
   ]
  },
  {
   "cell_type": "code",
   "execution_count": null,
   "id": "5fd56413-72e4-472d-b336-0f73d9d0ea49",
   "metadata": {},
   "outputs": [],
   "source": []
  }
 ],
 "metadata": {
  "kernelspec": {
   "display_name": "Python 3 (ipykernel)",
   "language": "python",
   "name": "python3"
  },
  "language_info": {
   "codemirror_mode": {
    "name": "ipython",
    "version": 3
   },
   "file_extension": ".py",
   "mimetype": "text/x-python",
   "name": "python",
   "nbconvert_exporter": "python",
   "pygments_lexer": "ipython3",
   "version": "3.11.7"
  }
 },
 "nbformat": 4,
 "nbformat_minor": 5
}
